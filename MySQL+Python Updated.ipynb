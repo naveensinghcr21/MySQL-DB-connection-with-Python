{
 "cells": [
  {
   "cell_type": "markdown",
   "metadata": {},
   "source": [
    "<h1><center> Connecting MySQL DB to Python using MySql Connector</center></h1>\n"
   ]
  },
  {
   "attachments": {
    "0_VqnRFiyzWR8gVO2L.png": {
     "image/png": "[encoded data removed]"
    }
   },
   "cell_type": "markdown",
   "metadata": {},
   "source": [
    "![0_VqnRFiyzWR8gVO2L.png](attachment:0_VqnRFiyzWR8gVO2L.png)"
   ]
  },
  {
   "cell_type": "code",
   "execution_count": 1,
   "metadata": {},
   "outputs": [],
   "source": [
    "import mysql.connector as connection"
   ]
  },
  {
   "cell_type": "code",
   "execution_count": 2,
   "metadata": {},
   "outputs": [],
   "source": [
    "mydb = connection.connect(host=\"localhost\",user=\"root\", passwd=\"Iamwhatiam21@\",use_pure=True)"
   ]
  },
  {
   "cell_type": "code",
   "execution_count": 3,
   "metadata": {},
   "outputs": [
    {
     "data": {
      "text/plain": [
       "<mysql.connector.connection.MySQLConnection at 0x1cd43d0f970>"
      ]
     },
     "execution_count": 3,
     "metadata": {},
     "output_type": "execute_result"
    }
   ],
   "source": [
    "mydb"
   ]
  },
  {
   "cell_type": "code",
   "execution_count": 4,
   "metadata": {},
   "outputs": [],
   "source": [
    "cursor = mydb.cursor()"
   ]
  },
  {
   "cell_type": "code",
   "execution_count": 5,
   "metadata": {},
   "outputs": [],
   "source": [
    "cursor.execute(\"use naveendb1\")"
   ]
  },
  {
   "cell_type": "markdown",
   "metadata": {},
   "source": [
    "# Importing CSV file (Movies) into the table in Database"
   ]
  },
  {
   "cell_type": "code",
   "execution_count": 6,
   "metadata": {},
   "outputs": [],
   "source": [
    "import pandas as pd\n",
    "import numpy as np"
   ]
  },
  {
   "cell_type": "code",
   "execution_count": 7,
   "metadata": {},
   "outputs": [],
   "source": [
    "df=pd.read_csv(r'C:\\Users\\91746\\Desktop\\Machine Learning Projects\\sql + python\\Movies SQL\\movies.csv')"
   ]
  },
  {
   "cell_type": "code",
   "execution_count": 8,
   "metadata": {},
   "outputs": [
    {
     "data": {
      "text/html": [
       "<div>\n",
       "<style scoped>\n",
       "    .dataframe tbody tr th:only-of-type {\n",
       "        vertical-align: middle;\n",
       "    }\n",
       "\n",
       "    .dataframe tbody tr th {\n",
       "        vertical-align: top;\n",
       "    }\n",
       "\n",
       "    .dataframe thead th {\n",
       "        text-align: right;\n",
       "    }\n",
       "</style>\n",
       "<table border=\"1\" class=\"dataframe\">\n",
       "  <thead>\n",
       "    <tr style=\"text-align: right;\">\n",
       "      <th></th>\n",
       "      <th>11</th>\n",
       "      <th>Star Wars</th>\n",
       "      <th>76.496</th>\n",
       "    </tr>\n",
       "  </thead>\n",
       "  <tbody>\n",
       "    <tr>\n",
       "      <th>0</th>\n",
       "      <td>62</td>\n",
       "      <td>2001: A Space Odyssey</td>\n",
       "      <td>39.064</td>\n",
       "    </tr>\n",
       "    <tr>\n",
       "      <th>1</th>\n",
       "      <td>152</td>\n",
       "      <td>Star Trek: The Motion Picture</td>\n",
       "      <td>26.551</td>\n",
       "    </tr>\n",
       "    <tr>\n",
       "      <th>2</th>\n",
       "      <td>154</td>\n",
       "      <td>Star Trek II: The Wrath of Khan</td>\n",
       "      <td>17.266</td>\n",
       "    </tr>\n",
       "    <tr>\n",
       "      <th>3</th>\n",
       "      <td>157</td>\n",
       "      <td>Star Trek III: The Search for Spock</td>\n",
       "      <td>17.008</td>\n",
       "    </tr>\n",
       "    <tr>\n",
       "      <th>4</th>\n",
       "      <td>168</td>\n",
       "      <td>Star Trek IV: The Voyage Home</td>\n",
       "      <td>17.747</td>\n",
       "    </tr>\n",
       "    <tr>\n",
       "      <th>...</th>\n",
       "      <td>...</td>\n",
       "      <td>...</td>\n",
       "      <td>...</td>\n",
       "    </tr>\n",
       "    <tr>\n",
       "      <th>2478</th>\n",
       "      <td>724435</td>\n",
       "      <td>Star Wars: The Clone Wars - The Siege of Manda...</td>\n",
       "      <td>1.792</td>\n",
       "    </tr>\n",
       "    <tr>\n",
       "      <th>2479</th>\n",
       "      <td>724825</td>\n",
       "      <td>AGFA MYSTERY MIXTAPE #4: FOLLOW YOUR OWN STAR</td>\n",
       "      <td>2.744</td>\n",
       "    </tr>\n",
       "    <tr>\n",
       "      <th>2480</th>\n",
       "      <td>724968</td>\n",
       "      <td>Bad Stars: Chemical Valley</td>\n",
       "      <td>0.600</td>\n",
       "    </tr>\n",
       "    <tr>\n",
       "      <th>2481</th>\n",
       "      <td>725353</td>\n",
       "      <td>Jasmine Star</td>\n",
       "      <td>0.600</td>\n",
       "    </tr>\n",
       "    <tr>\n",
       "      <th>2482</th>\n",
       "      <td>726152</td>\n",
       "      <td>The Ape Star</td>\n",
       "      <td>1.925</td>\n",
       "    </tr>\n",
       "  </tbody>\n",
       "</table>\n",
       "<p>2483 rows × 3 columns</p>\n",
       "</div>"
      ],
      "text/plain": [
       "          11                                          Star Wars  76.496\n",
       "0         62                              2001: A Space Odyssey  39.064\n",
       "1        152                      Star Trek: The Motion Picture  26.551\n",
       "2        154                    Star Trek II: The Wrath of Khan  17.266\n",
       "3        157                Star Trek III: The Search for Spock  17.008\n",
       "4        168                      Star Trek IV: The Voyage Home  17.747\n",
       "...      ...                                                ...     ...\n",
       "2478  724435  Star Wars: The Clone Wars - The Siege of Manda...   1.792\n",
       "2479  724825      AGFA MYSTERY MIXTAPE #4: FOLLOW YOUR OWN STAR   2.744\n",
       "2480  724968                         Bad Stars: Chemical Valley   0.600\n",
       "2481  725353                                       Jasmine Star   0.600\n",
       "2482  726152                                       The Ape Star   1.925\n",
       "\n",
       "[2483 rows x 3 columns]"
      ]
     },
     "execution_count": 8,
     "metadata": {},
     "output_type": "execute_result"
    }
   ],
   "source": [
    "df"
   ]
  },
  {
   "cell_type": "code",
   "execution_count": 9,
   "metadata": {},
   "outputs": [],
   "source": [
    "df.columns= [\"id\",\"movies\",\"score\"]"
   ]
  },
  {
   "cell_type": "code",
   "execution_count": 10,
   "metadata": {},
   "outputs": [
    {
     "data": {
      "text/html": [
       "<div>\n",
       "<style scoped>\n",
       "    .dataframe tbody tr th:only-of-type {\n",
       "        vertical-align: middle;\n",
       "    }\n",
       "\n",
       "    .dataframe tbody tr th {\n",
       "        vertical-align: top;\n",
       "    }\n",
       "\n",
       "    .dataframe thead th {\n",
       "        text-align: right;\n",
       "    }\n",
       "</style>\n",
       "<table border=\"1\" class=\"dataframe\">\n",
       "  <thead>\n",
       "    <tr style=\"text-align: right;\">\n",
       "      <th></th>\n",
       "      <th>id</th>\n",
       "      <th>movies</th>\n",
       "      <th>score</th>\n",
       "    </tr>\n",
       "  </thead>\n",
       "  <tbody>\n",
       "    <tr>\n",
       "      <th>0</th>\n",
       "      <td>62</td>\n",
       "      <td>2001: A Space Odyssey</td>\n",
       "      <td>39.064</td>\n",
       "    </tr>\n",
       "    <tr>\n",
       "      <th>1</th>\n",
       "      <td>152</td>\n",
       "      <td>Star Trek: The Motion Picture</td>\n",
       "      <td>26.551</td>\n",
       "    </tr>\n",
       "    <tr>\n",
       "      <th>2</th>\n",
       "      <td>154</td>\n",
       "      <td>Star Trek II: The Wrath of Khan</td>\n",
       "      <td>17.266</td>\n",
       "    </tr>\n",
       "    <tr>\n",
       "      <th>3</th>\n",
       "      <td>157</td>\n",
       "      <td>Star Trek III: The Search for Spock</td>\n",
       "      <td>17.008</td>\n",
       "    </tr>\n",
       "    <tr>\n",
       "      <th>4</th>\n",
       "      <td>168</td>\n",
       "      <td>Star Trek IV: The Voyage Home</td>\n",
       "      <td>17.747</td>\n",
       "    </tr>\n",
       "  </tbody>\n",
       "</table>\n",
       "</div>"
      ],
      "text/plain": [
       "    id                               movies   score\n",
       "0   62                2001: A Space Odyssey  39.064\n",
       "1  152        Star Trek: The Motion Picture  26.551\n",
       "2  154      Star Trek II: The Wrath of Khan  17.266\n",
       "3  157  Star Trek III: The Search for Spock  17.008\n",
       "4  168        Star Trek IV: The Voyage Home  17.747"
      ]
     },
     "execution_count": 10,
     "metadata": {},
     "output_type": "execute_result"
    }
   ],
   "source": [
    "df.head()"
   ]
  },
  {
   "cell_type": "code",
   "execution_count": 22,
   "metadata": {},
   "outputs": [],
   "source": [
    "cursor = mydb.cursor()"
   ]
  },
  {
   "cell_type": "code",
   "execution_count": 11,
   "metadata": {},
   "outputs": [],
   "source": [
    "cursor.execute(\"create table movies_new5 (id int,movie varchar(1000),score real)\")"
   ]
  },
  {
   "cell_type": "code",
   "execution_count": 12,
   "metadata": {},
   "outputs": [],
   "source": [
    "for i,row in df.iterrows():\n",
    "    query= \" insert into movies_new5 values(%s,%s,%s)\"\n",
    "    cursor.execute(query, tuple(row))"
   ]
  },
  {
   "cell_type": "code",
   "execution_count": 12,
   "metadata": {},
   "outputs": [],
   "source": [
    "cursor.execute(\"select * from movies_new5 limit 50\")"
   ]
  },
  {
   "cell_type": "code",
   "execution_count": 13,
   "metadata": {},
   "outputs": [
    {
     "data": {
      "text/plain": [
       "[(62, '2001: A Space Odyssey', 39.064),\n",
       " (152, 'Star Trek: The Motion Picture', 26.551),\n",
       " (154, 'Star Trek II: The Wrath of Khan', 17.266),\n",
       " (157, 'Star Trek III: The Search for Spock', 17.008),\n",
       " (168, 'Star Trek IV: The Voyage Home', 17.747),\n",
       " (172, 'Star Trek V: The Final Frontier', 18.588),\n",
       " (174, 'Star Trek VI: The Undiscovered Country', 10.975),\n",
       " (193, 'Star Trek: Generations', 10.921),\n",
       " (199, 'Star Trek: First Contact', 22.78),\n",
       " (200, 'Star Trek: Insurrection', 17.369),\n",
       " (201, 'Star Trek: Nemesis', 22.021),\n",
       " (212, 'Arsenic and Old Lace', 12.55),\n",
       " (411,\n",
       "  'The Chronicles of Narnia: The Lion, the Witch and the Wardrobe',\n",
       "  31.61),\n",
       " (563, 'Starship Troopers', 22.141),\n",
       " (679, 'Aliens', 29.666),\n",
       " (935,\n",
       "  'Dr. Strangelove or: How I Learned to Stop Worrying and Love the Bomb',\n",
       "  21.628),\n",
       " (940, 'The Lady Vanishes', 14.034),\n",
       " (1410, 'Dark Star', 8.462),\n",
       " (1771, 'Captain America: The First Avenger', 25.99),\n",
       " (1884, 'The Ewok Adventure', 11.998),\n",
       " (1891, 'The Empire Strikes Back', 27.13),\n",
       " (1892, 'Return of the Jedi', 24.305),\n",
       " (1893, 'Star Wars: Episode I - The Phantom Menace', 28.646),\n",
       " (1894, 'Star Wars: Episode II - Attack of the Clones', 25.394000000000002),\n",
       " (1895, 'Star Wars: Episode III - Revenge of the Sith', 27.07),\n",
       " (2102, 'Solar Crisis', 4.675),\n",
       " (2115, 'Light of Day', 3.617),\n",
       " (2164, 'Stargate', 21.584),\n",
       " (2215, 'Star-Crossed Lovers', 1.0490000000000002),\n",
       " (2270, 'Stardust', 17.121),\n",
       " (2357, '10 Items or Less', 8.451),\n",
       " (2405, 'Joseph', 9.818),\n",
       " (2712, 'Jacob', 5.341),\n",
       " (2719, 'Moses', 4.206),\n",
       " (2748, 'Journey to Italy', 9.854),\n",
       " (2764, 'All Stars', 2.448),\n",
       " (2909, 'In the Dust of the Stars', 4.747),\n",
       " (3111, 'A Star Is Born', 11.519),\n",
       " (3480, 'The Old Gun', 7.452999999999999),\n",
       " (4338, 'I Woke Up Early the Day I Died', 5.54),\n",
       " (4826, 'Five Moons Plaza', 5.048),\n",
       " (4834, 'Starke Zeiten', 1.544),\n",
       " (4959, 'The International', 15.741),\n",
       " (5506, 'The Ladykillers', 8.835),\n",
       " (5516, 'The Ladykillers', 14.377),\n",
       " (6436, 'Star Command', 2.773),\n",
       " (6977, 'No Country for Old Men', 23.01),\n",
       " (7288, 'Duplex', 14.948),\n",
       " (7508, 'Like Stars on Earth', 12.084000000000001),\n",
       " (8413, 'Event Horizon', 17.281)]"
      ]
     },
     "execution_count": 13,
     "metadata": {},
     "output_type": "execute_result"
    }
   ],
   "source": [
    "cursor.fetchall()"
   ]
  },
  {
   "cell_type": "markdown",
   "metadata": {},
   "source": [
    "# Importing CSV file (Movie Cast) into the table in Database"
   ]
  },
  {
   "cell_type": "code",
   "execution_count": 14,
   "metadata": {},
   "outputs": [],
   "source": [
    "# q1_b\n",
    "# 2. movie_cast\n",
    "# --1. movie_id (integer)\n",
    "# --2. cast_id (integer)\n",
    "# --3. cast_name (text)\n",
    "# --4. birthday (text)\n",
    "# --5. popularity (real)"
   ]
  },
  {
   "cell_type": "code",
   "execution_count": 16,
   "metadata": {},
   "outputs": [],
   "source": [
    "cursor.execute(\"create table movie_cast1 (movie_id int,cast_id int,cast_name varchar(1000),birthday varchar(1000),popularity real)\")"
   ]
  },
  {
   "cell_type": "code",
   "execution_count": 15,
   "metadata": {},
   "outputs": [],
   "source": [
    "df2=pd.read_csv(r'C:\\Users\\91746\\Desktop\\Machine Learning Projects\\sql + python\\Movies SQL\\movie_cast.csv')"
   ]
  },
  {
   "cell_type": "code",
   "execution_count": 16,
   "metadata": {},
   "outputs": [],
   "source": [
    "df2.columns=[\"movie_id\",\"cast_id\",\"cast_name\",\"birthday\",\"popularity\"]"
   ]
  },
  {
   "cell_type": "code",
   "execution_count": 17,
   "metadata": {},
   "outputs": [
    {
     "data": {
      "text/html": [
       "<div>\n",
       "<style scoped>\n",
       "    .dataframe tbody tr th:only-of-type {\n",
       "        vertical-align: middle;\n",
       "    }\n",
       "\n",
       "    .dataframe tbody tr th {\n",
       "        vertical-align: top;\n",
       "    }\n",
       "\n",
       "    .dataframe thead th {\n",
       "        text-align: right;\n",
       "    }\n",
       "</style>\n",
       "<table border=\"1\" class=\"dataframe\">\n",
       "  <thead>\n",
       "    <tr style=\"text-align: right;\">\n",
       "      <th></th>\n",
       "      <th>movie_id</th>\n",
       "      <th>cast_id</th>\n",
       "      <th>cast_name</th>\n",
       "      <th>birthday</th>\n",
       "      <th>popularity</th>\n",
       "    </tr>\n",
       "  </thead>\n",
       "  <tbody>\n",
       "    <tr>\n",
       "      <th>0</th>\n",
       "      <td>11</td>\n",
       "      <td>3</td>\n",
       "      <td>Harrison Ford</td>\n",
       "      <td>7/13/42</td>\n",
       "      <td>14.512</td>\n",
       "    </tr>\n",
       "    <tr>\n",
       "      <th>1</th>\n",
       "      <td>11</td>\n",
       "      <td>4</td>\n",
       "      <td>Carrie Fisher</td>\n",
       "      <td>10/21/56</td>\n",
       "      <td>8.905</td>\n",
       "    </tr>\n",
       "    <tr>\n",
       "      <th>2</th>\n",
       "      <td>11</td>\n",
       "      <td>5</td>\n",
       "      <td>Peter Cushing</td>\n",
       "      <td>5/26/13</td>\n",
       "      <td>6.350</td>\n",
       "    </tr>\n",
       "    <tr>\n",
       "      <th>3</th>\n",
       "      <td>11</td>\n",
       "      <td>6</td>\n",
       "      <td>Anthony Daniels</td>\n",
       "      <td>2/21/46</td>\n",
       "      <td>7.083</td>\n",
       "    </tr>\n",
       "    <tr>\n",
       "      <th>4</th>\n",
       "      <td>11</td>\n",
       "      <td>130</td>\n",
       "      <td>Kenny Baker</td>\n",
       "      <td>8/24/34</td>\n",
       "      <td>3.109</td>\n",
       "    </tr>\n",
       "    <tr>\n",
       "      <th>...</th>\n",
       "      <td>...</td>\n",
       "      <td>...</td>\n",
       "      <td>...</td>\n",
       "      <td>...</td>\n",
       "      <td>...</td>\n",
       "    </tr>\n",
       "    <tr>\n",
       "      <th>23374</th>\n",
       "      <td>726152</td>\n",
       "      <td>231318</td>\n",
       "      <td>Melinda Kinnaman</td>\n",
       "      <td>11/9/71</td>\n",
       "      <td>1.495</td>\n",
       "    </tr>\n",
       "    <tr>\n",
       "      <th>23375</th>\n",
       "      <td>726152</td>\n",
       "      <td>576510</td>\n",
       "      <td>Gunnar Bohlin</td>\n",
       "      <td>None</td>\n",
       "      <td>0.600</td>\n",
       "    </tr>\n",
       "    <tr>\n",
       "      <th>23376</th>\n",
       "      <td>726152</td>\n",
       "      <td>2717973</td>\n",
       "      <td>Rebecca Gerstmann</td>\n",
       "      <td>None</td>\n",
       "      <td>0.600</td>\n",
       "    </tr>\n",
       "    <tr>\n",
       "      <th>23377</th>\n",
       "      <td>726152</td>\n",
       "      <td>2717974</td>\n",
       "      <td>Jack Bergenholtz</td>\n",
       "      <td>None</td>\n",
       "      <td>0.600</td>\n",
       "    </tr>\n",
       "    <tr>\n",
       "      <th>23378</th>\n",
       "      <td>726152</td>\n",
       "      <td>2717976</td>\n",
       "      <td>Per Broman</td>\n",
       "      <td>None</td>\n",
       "      <td>0.600</td>\n",
       "    </tr>\n",
       "  </tbody>\n",
       "</table>\n",
       "<p>23379 rows × 5 columns</p>\n",
       "</div>"
      ],
      "text/plain": [
       "       movie_id  cast_id          cast_name  birthday  popularity\n",
       "0            11        3      Harrison Ford   7/13/42      14.512\n",
       "1            11        4      Carrie Fisher  10/21/56       8.905\n",
       "2            11        5      Peter Cushing   5/26/13       6.350\n",
       "3            11        6    Anthony Daniels   2/21/46       7.083\n",
       "4            11      130        Kenny Baker   8/24/34       3.109\n",
       "...         ...      ...                ...       ...         ...\n",
       "23374    726152   231318   Melinda Kinnaman   11/9/71       1.495\n",
       "23375    726152   576510      Gunnar Bohlin      None       0.600\n",
       "23376    726152  2717973  Rebecca Gerstmann      None       0.600\n",
       "23377    726152  2717974   Jack Bergenholtz      None       0.600\n",
       "23378    726152  2717976         Per Broman      None       0.600\n",
       "\n",
       "[23379 rows x 5 columns]"
      ]
     },
     "execution_count": 17,
     "metadata": {},
     "output_type": "execute_result"
    }
   ],
   "source": [
    "df2"
   ]
  },
  {
   "cell_type": "code",
   "execution_count": 25,
   "metadata": {},
   "outputs": [],
   "source": [
    "for i,rows in df2.iterrows():\n",
    "    cursor.execute(\"insert into movie_cast1 value(%s,%s,%s,%s,%s)\",tuple(rows))\n",
    "    "
   ]
  },
  {
   "cell_type": "code",
   "execution_count": 26,
   "metadata": {},
   "outputs": [],
   "source": [
    "cursor.execute(\"select * from movie_cast1 limit 50\")"
   ]
  },
  {
   "cell_type": "code",
   "execution_count": 27,
   "metadata": {},
   "outputs": [
    {
     "data": {
      "text/plain": [
       "[(11, 3, 'Harrison Ford', '7/13/42', 14.512),\n",
       " (11, 4, 'Carrie Fisher', '10/21/56', 8.905),\n",
       " (11, 5, 'Peter Cushing', '5/26/13', 6.35),\n",
       " (11, 6, 'Anthony Daniels', '2/21/46', 7.082999999999999),\n",
       " (11, 130, 'Kenny Baker', '8/24/34', 3.109),\n",
       " (11, 663, 'William Hootkins', '7/5/48', 1.591),\n",
       " (11, 3044, 'Scott Beach', '1/13/31', 1.788),\n",
       " (11, 4945, 'Joe Johnston', '5/13/50', 3.074),\n",
       " (11, 7727, 'Phil Tippett', 'None', 1.62),\n",
       " (11, 10657, 'Shane Rimmer', '5/28/29', 2.6660000000000004),\n",
       " (11, 12248, 'Alec Guinness', '4/2/14', 5.599),\n",
       " (11, 12829, 'Richard LeParmentier', '7/16/46', 0.98),\n",
       " (11, 15152, 'James Earl Jones', '1/17/31', 6.978),\n",
       " (11, 17356, 'Garrick Hagon', '9/27/39', 2.036),\n",
       " (11, 24278, 'Bill Weston', '5/29/41', 1.4),\n",
       " (11, 24342, 'David Prowse', '7/1/35', 1.016),\n",
       " (11, 24343, 'Peter Mayhew', '5/19/44', 3.2539999999999996),\n",
       " (11, 33032, 'Phil Brown', '4/30/16', 1.686),\n",
       " (11, 42570, 'Don Henderson', '11/10/32', 1.006),\n",
       " (11, 47401, 'Drewe Henley', 'None', 1.128),\n",
       " (11, 47698, 'Denis Lawson', '9/27/47', 2.7289999999999996),\n",
       " (11, 53587, 'Peter Diamond', '8/10/29', 0.6509999999999999),\n",
       " (11, 58475, 'Angus MacInnes', '10/27/47', 0.84),\n",
       " (11, 69249, 'Eddie Byrne', '1/31/11', 2.7439999999999998),\n",
       " (11, 79489, 'Leslie Schofield', '12/12/38', 1.33),\n",
       " (11, 104149, 'Maria De Aragon', 'None', 0.6),\n",
       " (11, 110319, 'George Roubicek', 'None', 0.6),\n",
       " (11, 131625, 'Shelagh Fraser', '11/25/20', 1.38),\n",
       " (11, 132538, 'Jack Purvis', '7/13/37', 1.008),\n",
       " (11, 151819, 'Jeremy Sinden', '6/14/50', 0.63),\n",
       " (11, 159108, 'Larry Ward', '10/3/24', 1.128),\n",
       " (11, 160947, 'Morgan Upton', '8/11/30', 0.6),\n",
       " (11, 161301, 'Jerry Walter', 'None', 0.6),\n",
       " (11, 162432, 'Jack Klaff', '8/6/51', 0.732),\n",
       " (11, 166258, 'Malcolm Tierney', '2/25/38', 0.985),\n",
       " (11, 184980, 'Burnell Tucker', 'None', 1.702),\n",
       " (11, 186229, 'Barry Copping', 'None', 0.6),\n",
       " (11, 187398, 'Peter Sumner', '1/29/42', 0.6859999999999999),\n",
       " (11, 190453, 'Al Lampert', 'None', 0.6),\n",
       " (11, 199356, 'Paul Blake', 'None', 0.6),\n",
       " (11, 201344, 'Joe Kaye', 'None', 0.6),\n",
       " (11, 202276, 'Graham Ashley', 'None', 0.6),\n",
       " (11, 202402, 'Harry Fielder', 'None', 0.6940000000000001),\n",
       " (11, 216087, 'Alex McCrindle', '8/3/11', 0.98),\n",
       " (11, 227857, 'Anthony Forrest', '7/25/51', 1.4),\n",
       " (11, 252527, 'Rusty Goffe', 'None', 1.5430000000000001),\n",
       " (11, 301657, 'Colin Higgins', 'None', 1.052),\n",
       " (11, 390158, 'Tom Sylla', 'None', 0.6),\n",
       " (11, 964699, 'Alan Harris', '5/28/38', 1.78),\n",
       " (11, 1012562, 'Anthony Lang', 'None', 0.84)]"
      ]
     },
     "execution_count": 27,
     "metadata": {},
     "output_type": "execute_result"
    }
   ],
   "source": [
    "cursor.fetchall()"
   ]
  },
  {
   "cell_type": "markdown",
   "metadata": {},
   "source": [
    "# Calculating the proportion of movies having a score > 10 and that has ‘war’ in the name"
   ]
  },
  {
   "cell_type": "code",
   "execution_count": 28,
   "metadata": {},
   "outputs": [],
   "source": [
    "query = \"select count(*)*100/(select count(*) from movies_new5)  from movies_new5 where score > 10 and movie regexp 'war?'\""
   ]
  },
  {
   "cell_type": "code",
   "execution_count": 29,
   "metadata": {},
   "outputs": [],
   "source": [
    "cursor.execute(query)"
   ]
  },
  {
   "cell_type": "code",
   "execution_count": 30,
   "metadata": {},
   "outputs": [
    {
     "data": {
      "text/plain": [
       "[(Decimal('0.5638'),)]"
      ]
     },
     "execution_count": 30,
     "metadata": {},
     "output_type": "execute_result"
    }
   ],
   "source": [
    "cursor.fetchall()"
   ]
  },
  {
   "cell_type": "markdown",
   "metadata": {},
   "source": [
    "* # Only 0.5638% of total movies satisfies the above query"
   ]
  },
  {
   "cell_type": "markdown",
   "metadata": {},
   "source": [
    "* # Finding the most prolific actors. Listing 5 cast members with the highest number of movie\n",
    "* # Appearances that have a popularity > 10. Sorting the results by the number of appearances in descending order, then by cast_name in alphabetical order."
   ]
  },
  {
   "cell_type": "code",
   "execution_count": 31,
   "metadata": {},
   "outputs": [],
   "source": [
    "query=\"select cast_name,count(cast_name) from movie_cast1 where popularity > 10 group by cast_name order by count(cast_name) desc limit 5 \"\n",
    "cursor.execute(query)"
   ]
  },
  {
   "cell_type": "code",
   "execution_count": 32,
   "metadata": {},
   "outputs": [
    {
     "data": {
      "text/plain": [
       "[('Mark Hamill', 16),\n",
       " ('Harrison Ford', 14),\n",
       " ('Billy Dee Williams', 12),\n",
       " ('Patrick Stewart', 11),\n",
       " ('Samuel L. Jackson', 9)]"
      ]
     },
     "execution_count": 32,
     "metadata": {},
     "output_type": "execute_result"
    }
   ],
   "source": [
    "cursor.fetchall()"
   ]
  },
  {
   "cell_type": "markdown",
   "metadata": {},
   "source": [
    "* # Finding the highest scoring movies with the smallest cast. Listing the 5 highest-scoring movies that have the fewest cast members. \n",
    "* # Sorting the results by score in descending order, then by number of cast members in ascending order, then by movie name in alphabetical order. "
   ]
  },
  {
   "cell_type": "code",
   "execution_count": 33,
   "metadata": {},
   "outputs": [],
   "source": [
    "query=(\"select movie,score,count(cast_name) from movies_new5 inner join movie_cast1 on movies_new5.id = movie_cast1.movie_id group by movie order by score desc, count(cast_name) desc,movie asc limit 10\")"
   ]
  },
  {
   "cell_type": "code",
   "execution_count": 34,
   "metadata": {},
   "outputs": [],
   "source": [
    "cursor.execute(query)"
   ]
  },
  {
   "cell_type": "markdown",
   "metadata": {},
   "source": [
    "# Output:"
   ]
  },
  {
   "cell_type": "code",
   "execution_count": 35,
   "metadata": {},
   "outputs": [
    {
     "data": {
      "text/plain": [
       "[('Interstellar', 99.39200000000001, 37),\n",
       " ('Star Wars: The Rise of Skywalker', 69.039, 112),\n",
       " ('Star Wars: The Last Jedi', 42.653, 115),\n",
       " ('2001: A Space Odyssey', 39.064, 60),\n",
       " ('Solo: A Star Wars Story', 37.443000000000005, 111),\n",
       " ('Star Wars: The Force Awakens', 36.543, 191),\n",
       " ('The Chronicles of Narnia: The Lion, the Witch and the Wardrobe', 31.61, 62),\n",
       " ('Aliens', 29.666, 27),\n",
       " ('Bolt', 28.743000000000002, 46),\n",
       " ('Star Wars: Episode I - The Phantom Menace', 28.646, 121)]"
      ]
     },
     "execution_count": 35,
     "metadata": {},
     "output_type": "execute_result"
    }
   ],
   "source": [
    "cursor.fetchall()"
   ]
  },
  {
   "cell_type": "markdown",
   "metadata": {},
   "source": [
    "* # Getting highest scoring actors. Finding the top ten cast members who have the highest average movie scores. * \n",
    "* #  Formatting all decimals to two place.\n",
    "* #  Sorting the output by average score in descending order, then by cast_name in alphabetical order.\n",
    "* #  Not including the movies with score <25 in the average score calculation.\n",
    "* #  Excluding cast members who have appeared in two or fewer movies.\n",
    "* #  Output format and sample values (cast_id,cast_name,average_score):\n",
    "* # 8822,Julia Roberts,53.00"
   ]
  },
  {
   "cell_type": "code",
   "execution_count": 36,
   "metadata": {},
   "outputs": [],
   "source": [
    "query=\"select cast_id, cast_name,format(avg(score),2) from movies_new5 inner join movie_cast1 on movies_new5.id=movie_cast1.movie_id group by cast_name having avg(score) > 25 AND count(cast_id) >2 order by avg(score) desc,cast_name asc limit 10\"\n",
    "cursor.execute(query)"
   ]
  },
  {
   "cell_type": "markdown",
   "metadata": {},
   "source": [
    "# Output:"
   ]
  },
  {
   "cell_type": "code",
   "execution_count": 37,
   "metadata": {},
   "outputs": [
    {
     "data": {
      "text/plain": [
       "[(1329041, 'Brian Herring', '46.42'),\n",
       " (1234529, 'Dave Chapman', '46.42'),\n",
       " (1709041, 'Joonas Suotamo', '46.42'),\n",
       " (100085, 'Paul Kasey', '43.90'),\n",
       " (1729666, 'Bill Kipsang Rotich', '43.30'),\n",
       " (1249957, 'Mike Quinn', '43.14'),\n",
       " (1333, 'Andy Serkis', '42.95'),\n",
       " (47698, 'Denis Lawson', '40.16'),\n",
       " (181879, 'Gerald W. Abrams', '39.59'),\n",
       " (17052, 'Topher Grace', '39.22')]"
      ]
     },
     "execution_count": 37,
     "metadata": {},
     "output_type": "execute_result"
    }
   ],
   "source": [
    "cursor.fetchall()"
   ]
  },
  {
   "cell_type": "code",
   "execution_count": null,
   "metadata": {},
   "outputs": [],
   "source": []
  }
 ],
 "metadata": {
  "kernelspec": {
   "display_name": "Python 3",
   "language": "python",
   "name": "python3"
  },
  "language_info": {
   "codemirror_mode": {
    "name": "ipython",
    "version": 3
   },
   "file_extension": ".py",
   "mimetype": "text/x-python",
   "name": "python",
   "nbconvert_exporter": "python",
   "pygments_lexer": "ipython3",
   "version": "3.8.5"
  }
 },
 "nbformat": 4,
 "nbformat_minor": 4
}
